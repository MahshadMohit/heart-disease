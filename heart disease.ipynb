{
  "cells": [
    {
      "cell_type": "code",
      "execution_count": null,
      "metadata": {
        "id": "B11Ci-dXMlZF"
      },
      "outputs": [],
      "source": [
        "import pandas as pd\n",
        "from sklearn.model_selection import train_test_split\n",
        "from sklearn.preprocessing import StandardScaler\n",
        "from sklearn import svm\n",
        "from sklearn.svm import SVC\n",
        "from sklearn.linear_model import LogisticRegression\n",
        "from sklearn.neighbors import KNeighborsClassifier\n",
        "from sklearn.metrics import accuracy_score, classification_report, confusion_matrix\n",
        "import matplotlib.pyplot as plt\n",
        "from sklearn.neural_network import MLPClassifier\n",
        "from sklearn.tree import DecisionTreeClassifier\n",
        "from sklearn.ensemble import RandomForestClassifier\n",
        "from sklearn.ensemble import ExtraTreesClassifier\n",
        "from xgboost import XGBClassifier as xgb\n",
        "from sklearn.naive_bayes import GaussianNB"
      ]
    },
    {
      "cell_type": "code",
      "execution_count": null,
      "metadata": {},
      "outputs": [],
      "source": [
        "df = pd.read_csv('/heart-disease-UCI.csv')\n",
        "print(df.describe)"
      ]
    },
    {
      "cell_type": "code",
      "execution_count": null,
      "metadata": {},
      "outputs": [],
      "source": [
        "print(df.info())\n"
      ]
    },
    {
      "cell_type": "code",
      "execution_count": null,
      "metadata": {},
      "outputs": [],
      "source": [
        "df.target.value_counts(normalize=True)"
      ]
    },
    {
      "cell_type": "code",
      "execution_count": null,
      "metadata": {},
      "outputs": [],
      "source": [
        "\n",
        "numeric_cols = ['age', 'sex', 'cp', 'trestbps', 'chol', 'fbs', 'restecg',\n",
        "                'thalach', 'exang', 'oldpeak', 'slope', 'ca', 'thal']\n",
        "\n",
        "\n",
        "X = df[numeric_cols]\n",
        "y = df['target']\n",
        "\n",
        "X_train, X_test, y_train, y_test = train_test_split(\n",
        "    X, y, test_size=0.2, random_state=42)\n",
        "\n",
        "scaler = StandardScaler()\n",
        "scaler.fit(X_train)\n",
        "\n",
        "X_train_scaled = scaler.transform(X_train)\n",
        "X_test_scaled = scaler.transform(X_test)\n",
        "\n",
        "X_train_scaled_df = pd.DataFrame(X_train_scaled, columns=numeric_cols).reset_index(drop=True)\n",
        "X_test_scaled_df = pd.DataFrame(X_test_scaled, columns=numeric_cols).reset_index(drop=True)\n",
        "\n",
        "print(X_train_scaled_df.head())\n"
      ]
    },
    {
      "cell_type": "code",
      "execution_count": null,
      "metadata": {},
      "outputs": [],
      "source": [
        "train_final = pd.concat([X_train_scaled_df, y_train.reset_index(drop=True)], axis=1)\n",
        "test_final = pd.concat([X_test_scaled_df, y_test.reset_index(drop=True)], axis=1)\n",
        "\n",
        "X_train = train_final.drop('target', axis=1)\n",
        "y_train = train_final['target']\n",
        "\n",
        "X_test = test_final.drop('target', axis=1)\n",
        "y_test = test_final['target']\n"
      ]
    },
    {
      "cell_type": "code",
      "execution_count": null,
      "metadata": {},
      "outputs": [],
      "source": [
        "model = SVC(kernel='poly', random_state=42)\n",
        "model.fit(X_train, y_train)\n",
        "\n",
        "y_pred = model.predict(X_test)\n",
        "\n",
        "print(\"\\n🔷 SVM ------------------\")\n",
        "print(\"✅ Accuracy:\", round(accuracy_score(y_test, y_pred), 4))\n",
        "print(\"📊 Confusion Matrix:\\n\", confusion_matrix(y_test, y_pred))\n",
        "print(\"📝 Classification Report:\\n\", classification_report(y_test, y_pred))"
      ]
    },
    {
      "cell_type": "code",
      "execution_count": null,
      "metadata": {},
      "outputs": [],
      "source": [
        "log_model = LogisticRegression(random_state=42,max_iter=100)\n",
        "log_model.fit(X_train,y_train)\n",
        "y_pred_log = log_model.predict(X_test)\n",
        "\n",
        "print(\"\\n🔷 Logistic Regression ------------------\")\n",
        "print(\"✅ Accuracy:\", accuracy_score(y_test, y_pred_log))\n",
        "print(\"📊 Confusion Matrix:\\n\", confusion_matrix(y_test, y_pred_log))\n",
        "print(\"📝 Classification Report:\\n\", classification_report(y_test, y_pred_log))"
      ]
    },
    {
      "cell_type": "code",
      "execution_count": null,
      "metadata": {},
      "outputs": [],
      "source": [
        "knn = KNeighborsClassifier(n_neighbors=5, weights='uniform', metric='euclidean')\n",
        "knn.fit(X_train,y_train)\n",
        "y_pred_knn = knn.predict(X_test)\n",
        "\n",
        "print(\"\\n🔷 K-Nearest Neighbors ------------------\")\n",
        "print(\"✅ Accuracy:\", accuracy_score(y_test, y_pred_knn))\n",
        "print(\"📊 Confusion Matrix:\\n\", confusion_matrix(y_test, y_pred_knn))\n",
        "print(\"📝 Classification Report:\\n\", classification_report(y_test, y_pred_knn))"
      ]
    },
    {
      "cell_type": "code",
      "execution_count": null,
      "metadata": {},
      "outputs": [],
      "source": [
        "mlp = MLPClassifier(hidden_layer_sizes=(100,),activation='relu',solver='sgd',early_stopping=True,max_iter=500,random_state=42)\n",
        "mlp.fit(X_train,y_train)\n",
        "y_pred_mlp = mlp.predict(X_test)\n",
        "\n",
        "\n",
        "print(\"\\n🔷 MLPClassifier (Neural Network) ------------------\")\n",
        "print(\"✅ Accuracy:\", accuracy_score(y_test, y_pred_mlp))\n",
        "print(\"📊 Confusion Matrix:\\n\", confusion_matrix(y_test, y_pred_mlp))\n",
        "print(\"📝 Classification Report:\\n\", classification_report(y_test, y_pred_mlp))"
      ]
    },
    {
      "cell_type": "code",
      "execution_count": null,
      "metadata": {},
      "outputs": [],
      "source": [
        "dtree = DecisionTreeClassifier()\n",
        "dtree.fit(X_train,y_train)\n",
        "y_pred_tree =dtree.predict(X_test)\n",
        "\n",
        "print(\"\\n🔷 Decision Tree ------------------\")\n",
        "print(\"✅ Accuracy:\", accuracy_score(y_test, y_pred_tree))\n",
        "print(\"📊 Confusion Matrix:\\n\", confusion_matrix(y_test, y_pred_tree))\n",
        "print(\"📝 Classification Report:\\n\", classification_report(y_test, y_pred_tree))\n",
        "\n"
      ]
    },
    {
      "cell_type": "code",
      "execution_count": null,
      "metadata": {},
      "outputs": [],
      "source": [
        "rf = RandomForestClassifier(n_estimators=100,max_depth=None,random_state=42)\n",
        "rf.fit(X_train,y_train)\n",
        "y_pred_rf = rf.predict(X_test)\n",
        "\n",
        "print(\"\\n🔷 Random Forest Classifier ------------------\")\n",
        "print(\"✅ Accuracy:\", accuracy_score(y_test, y_pred_rf))\n",
        "print(\"📊 Confusion Matrix:\\n\", confusion_matrix(y_test, y_pred_rf))\n",
        "print(\"📝 Classification Report:\\n\", classification_report(y_test, y_pred_rf))"
      ]
    }
  ],
  "metadata": {
    "colab": {
      "provenance": []
    },
    "kernelspec": {
      "display_name": "Python 3",
      "name": "python3"
    },
    "language_info": {
      "name": "python"
    }
  },
  "nbformat": 4,
  "nbformat_minor": 0
}
