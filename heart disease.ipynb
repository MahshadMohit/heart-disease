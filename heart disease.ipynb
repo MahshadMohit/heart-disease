{
  "cells": [
    {
      "cell_type": "code",
      "execution_count": 33,
      "metadata": {
        "id": "B11Ci-dXMlZF"
      },
      "outputs": [],
      "source": [
        "import pandas as pd\n",
        "from sklearn.model_selection import train_test_split\n",
        "from sklearn.preprocessing import StandardScaler\n",
        "from sklearn import svm\n",
        "from sklearn.svm import SVC\n",
        "from sklearn.linear_model import LogisticRegression\n",
        "from sklearn.neighbors import KNeighborsClassifier\n",
        "from sklearn.metrics import accuracy_score, classification_report, confusion_matrix\n",
        "import matplotlib.pyplot as plt\n",
        "from sklearn.neural_network import MLPClassifier\n",
        "from sklearn.tree import DecisionTreeClassifier\n",
        "from sklearn.ensemble import RandomForestClassifier\n",
        "from sklearn.ensemble import ExtraTreesClassifier\n",
        "from xgboost import XGBClassifier as xgb\n",
        "from sklearn.naive_bayes import GaussianNB\n",
        "from sklearn.model_selection import cross_val_score\n",
        "import joblib"
      ]
    },
    {
      "cell_type": "code",
      "execution_count": 2,
      "metadata": {
        "colab": {
          "base_uri": "https://localhost:8080/"
        },
        "id": "pWTkuIuNrQf-",
        "outputId": "2790f740-f9ef-455e-f194-eeda51d2b952"
      },
      "outputs": [
        {
          "output_type": "stream",
          "name": "stdout",
          "text": [
            "<bound method NDFrame.describe of      age  sex  cp  trestbps  chol  fbs  restecg  thalach  exang  oldpeak  \\\n",
            "0     63    1   3       145   233    1        0      150      0      2.3   \n",
            "1     37    1   2       130   250    0        1      187      0      3.5   \n",
            "2     41    0   1       130   204    0        0      172      0      1.4   \n",
            "3     56    1   1       120   236    0        1      178      0      0.8   \n",
            "4     57    0   0       120   354    0        1      163      1      0.6   \n",
            "..   ...  ...  ..       ...   ...  ...      ...      ...    ...      ...   \n",
            "298   57    0   0       140   241    0        1      123      1      0.2   \n",
            "299   45    1   3       110   264    0        1      132      0      1.2   \n",
            "300   68    1   0       144   193    1        1      141      0      3.4   \n",
            "301   57    1   0       130   131    0        1      115      1      1.2   \n",
            "302   57    0   1       130   236    0        0      174      0      0.0   \n",
            "\n",
            "     slope  ca  thal  target  \n",
            "0        0   0     1       1  \n",
            "1        0   0     2       1  \n",
            "2        2   0     2       1  \n",
            "3        2   0     2       1  \n",
            "4        2   0     2       1  \n",
            "..     ...  ..   ...     ...  \n",
            "298      1   0     3       0  \n",
            "299      1   0     3       0  \n",
            "300      1   2     3       0  \n",
            "301      1   1     3       0  \n",
            "302      1   1     2       0  \n",
            "\n",
            "[303 rows x 14 columns]>\n"
          ]
        }
      ],
      "source": [
        "df = pd.read_csv('/heart-disease-UCI.csv')\n",
        "print(df.describe)"
      ]
    },
    {
      "cell_type": "code",
      "execution_count": 3,
      "metadata": {
        "colab": {
          "base_uri": "https://localhost:8080/"
        },
        "id": "NGF9GnUBrQf_",
        "outputId": "05826e82-0cca-4941-db04-b9436095e9b4"
      },
      "outputs": [
        {
          "output_type": "stream",
          "name": "stdout",
          "text": [
            "<class 'pandas.core.frame.DataFrame'>\n",
            "RangeIndex: 303 entries, 0 to 302\n",
            "Data columns (total 14 columns):\n",
            " #   Column    Non-Null Count  Dtype  \n",
            "---  ------    --------------  -----  \n",
            " 0   age       303 non-null    int64  \n",
            " 1   sex       303 non-null    int64  \n",
            " 2   cp        303 non-null    int64  \n",
            " 3   trestbps  303 non-null    int64  \n",
            " 4   chol      303 non-null    int64  \n",
            " 5   fbs       303 non-null    int64  \n",
            " 6   restecg   303 non-null    int64  \n",
            " 7   thalach   303 non-null    int64  \n",
            " 8   exang     303 non-null    int64  \n",
            " 9   oldpeak   303 non-null    float64\n",
            " 10  slope     303 non-null    int64  \n",
            " 11  ca        303 non-null    int64  \n",
            " 12  thal      303 non-null    int64  \n",
            " 13  target    303 non-null    int64  \n",
            "dtypes: float64(1), int64(13)\n",
            "memory usage: 33.3 KB\n",
            "None\n"
          ]
        }
      ],
      "source": [
        "print(df.info())\n"
      ]
    },
    {
      "cell_type": "code",
      "execution_count": 4,
      "metadata": {
        "colab": {
          "base_uri": "https://localhost:8080/",
          "height": 178
        },
        "id": "mO-2M9-GrQgA",
        "outputId": "90ff0aa4-b1d8-4978-832c-616670a7fda2"
      },
      "outputs": [
        {
          "output_type": "execute_result",
          "data": {
            "text/plain": [
              "target\n",
              "1    0.544554\n",
              "0    0.455446\n",
              "Name: proportion, dtype: float64"
            ],
            "text/html": [
              "<div>\n",
              "<style scoped>\n",
              "    .dataframe tbody tr th:only-of-type {\n",
              "        vertical-align: middle;\n",
              "    }\n",
              "\n",
              "    .dataframe tbody tr th {\n",
              "        vertical-align: top;\n",
              "    }\n",
              "\n",
              "    .dataframe thead th {\n",
              "        text-align: right;\n",
              "    }\n",
              "</style>\n",
              "<table border=\"1\" class=\"dataframe\">\n",
              "  <thead>\n",
              "    <tr style=\"text-align: right;\">\n",
              "      <th></th>\n",
              "      <th>proportion</th>\n",
              "    </tr>\n",
              "    <tr>\n",
              "      <th>target</th>\n",
              "      <th></th>\n",
              "    </tr>\n",
              "  </thead>\n",
              "  <tbody>\n",
              "    <tr>\n",
              "      <th>1</th>\n",
              "      <td>0.544554</td>\n",
              "    </tr>\n",
              "    <tr>\n",
              "      <th>0</th>\n",
              "      <td>0.455446</td>\n",
              "    </tr>\n",
              "  </tbody>\n",
              "</table>\n",
              "</div><br><label><b>dtype:</b> float64</label>"
            ]
          },
          "metadata": {},
          "execution_count": 4
        }
      ],
      "source": [
        "df.target.value_counts(normalize=True)"
      ]
    },
    {
      "cell_type": "code",
      "execution_count": 5,
      "metadata": {
        "colab": {
          "base_uri": "https://localhost:8080/"
        },
        "id": "oop1lDrkrQgA",
        "outputId": "cdf723b4-797b-4a96-a1f3-90777f86b98a"
      },
      "outputs": [
        {
          "output_type": "stream",
          "name": "stdout",
          "text": [
            "        age       sex        cp  trestbps      chol       fbs   restecg  \\\n",
            "0 -1.356798  0.722504  0.008099 -0.616856  0.914034 -0.383301  0.843133   \n",
            "1  0.385086  0.722504 -0.971891  1.169491  0.439527 -0.383301 -1.046109   \n",
            "2 -0.921327  0.722504  0.988089  1.169491 -0.300704 -0.383301  0.843133   \n",
            "3  0.058483 -1.384075  0.008099  0.276318  0.059921 -0.383301 -1.046109   \n",
            "4  0.602822  0.722504 -0.971891 -0.795490 -0.319684  2.608918  0.843133   \n",
            "\n",
            "    thalach     exang   oldpeak     slope        ca      thal  \n",
            "0  0.532781 -0.676632 -0.920864  0.953905 -0.689701 -0.509048  \n",
            "1 -1.753582  1.477907 -0.193787  0.953905 -0.689701  1.178480  \n",
            "2 -0.139679 -0.676632  2.350982 -0.694988 -0.689701 -0.509048  \n",
            "3  0.487950 -0.676632  0.351521 -0.694988 -0.689701 -0.509048  \n",
            "4  0.443119  1.477907  0.351521  0.953905  1.333421  1.178480  \n"
          ]
        }
      ],
      "source": [
        "\n",
        "numeric_cols = ['age', 'sex', 'cp', 'trestbps', 'chol', 'fbs', 'restecg',\n",
        "                'thalach', 'exang', 'oldpeak', 'slope', 'ca', 'thal']\n",
        "\n",
        "\n",
        "X = df[numeric_cols]\n",
        "y = df['target']\n",
        "\n",
        "X_train, X_test, y_train, y_test = train_test_split(\n",
        "    X, y, test_size=0.2, random_state=42)\n",
        "\n",
        "scaler = StandardScaler()\n",
        "scaler.fit(X_train)\n",
        "\n",
        "X_train_scaled = scaler.transform(X_train)\n",
        "X_test_scaled = scaler.transform(X_test)\n",
        "\n",
        "X_train_scaled_df = pd.DataFrame(X_train_scaled, columns=numeric_cols).reset_index(drop=True)\n",
        "X_test_scaled_df = pd.DataFrame(X_test_scaled, columns=numeric_cols).reset_index(drop=True)\n",
        "\n",
        "print(X_train_scaled_df.head())\n"
      ]
    },
    {
      "cell_type": "code",
      "execution_count": 6,
      "metadata": {
        "id": "f6q5X78grQgA"
      },
      "outputs": [],
      "source": [
        "train_final = pd.concat([X_train_scaled_df, y_train.reset_index(drop=True)], axis=1)\n",
        "test_final = pd.concat([X_test_scaled_df, y_test.reset_index(drop=True)], axis=1)\n",
        "\n",
        "X_train = train_final.drop('target', axis=1)\n",
        "y_train = train_final['target']\n",
        "\n",
        "X_test = test_final.drop('target', axis=1)\n",
        "y_test = test_final['target']\n"
      ]
    },
    {
      "cell_type": "code",
      "source": [
        "def cross_validate_model(model, X, y, cv=5, model_name=\"Model\"):\n",
        "    print(f\"\\n🔁 Cross-Validation for {model_name.upper()} (cv={cv})\")\n",
        "    scores = cross_val_score(model, X, y, cv=cv, scoring='accuracy')\n",
        "    print(f\"✅ Accuracy Scores: {scores}\")\n",
        "    print(f\"📊 Mean Accuracy: {scores.mean():.4f}\")\n",
        "    print(f\"📉 Standard Deviation: {scores.std():.4f}\")\n",
        "\n",
        "def accuracy(y_test,y_pred):\n",
        "  print(\"✅ Accuracy:\", accuracy_score(y_test, y_pred))\n",
        "\n",
        "def confusionMatrix(y_test,y_pred):\n",
        "  print(\"📊 Confusion Matrix:\\n\", confusion_matrix(y_test, y_pred))\n",
        "\n",
        "def classificationReport(y_test,y_pred):\n",
        "  print(\"📝 Classification Report:\\n\", classification_report(y_test, y_pred))\n"
      ],
      "metadata": {
        "id": "RpKKlAeXs6Yt"
      },
      "execution_count": 23,
      "outputs": []
    },
    {
      "cell_type": "code",
      "execution_count": 22,
      "metadata": {
        "colab": {
          "base_uri": "https://localhost:8080/"
        },
        "id": "nmVe2jLLrQgB",
        "outputId": "4aebb500-eecb-43c5-bb3c-1e17e295daff"
      },
      "outputs": [
        {
          "output_type": "stream",
          "name": "stdout",
          "text": [
            "\n",
            "🔷 SVM ------------------\n",
            "✅ Accuracy: 0.9016\n",
            "📊 Confusion Matrix:\n",
            " [[26  3]\n",
            " [ 3 29]]\n",
            "📝 Classification Report:\n",
            "               precision    recall  f1-score   support\n",
            "\n",
            "           0       0.90      0.90      0.90        29\n",
            "           1       0.91      0.91      0.91        32\n",
            "\n",
            "    accuracy                           0.90        61\n",
            "   macro avg       0.90      0.90      0.90        61\n",
            "weighted avg       0.90      0.90      0.90        61\n",
            "\n",
            "\n",
            "🔁 Cross-Validation for SVM (POLY) (cv=5)\n",
            "✅ Accuracy Scores: [0.75510204 0.7755102  0.75       0.77083333 0.79166667]\n",
            "📊 Mean Accuracy: 0.7686\n",
            "📉 Standard Deviation: 0.0149\n"
          ]
        }
      ],
      "source": [
        "model = SVC(kernel='poly', random_state=42)\n",
        "model.fit(X_train, y_train)\n",
        "\n",
        "y_pred = model.predict(X_test)\n",
        "\n",
        "print(\"\\n🔷 SVM ------------------\")\n",
        "print(\"✅ Accuracy:\", round(accuracy_score(y_test, y_pred), 4))\n",
        "\n",
        "confusionMatrix(y_test,y_pred)\n",
        "classificationReport(y_test,y_pred)\n",
        "cross_validate_model(model,X_train,y_train,model_name=\"SVM (poly)\")"
      ]
    },
    {
      "cell_type": "code",
      "execution_count": 24,
      "metadata": {
        "colab": {
          "base_uri": "https://localhost:8080/"
        },
        "id": "A-onVJGLrQgC",
        "outputId": "4f7b58ca-5f4d-45aa-f1fb-5fa83076df3a"
      },
      "outputs": [
        {
          "output_type": "stream",
          "name": "stdout",
          "text": [
            "\n",
            "🔷 Logistic Regression ------------------\n",
            "✅ Accuracy: 0.8524590163934426\n",
            "📊 Confusion Matrix:\n",
            " [[25  4]\n",
            " [ 5 27]]\n",
            "📝 Classification Report:\n",
            "               precision    recall  f1-score   support\n",
            "\n",
            "           0       0.83      0.86      0.85        29\n",
            "           1       0.87      0.84      0.86        32\n",
            "\n",
            "    accuracy                           0.85        61\n",
            "   macro avg       0.85      0.85      0.85        61\n",
            "weighted avg       0.85      0.85      0.85        61\n",
            "\n",
            "\n",
            "🔁 Cross-Validation for LOGISTICREGRESSION (cv=5)\n",
            "✅ Accuracy Scores: [0.75510204 0.7755102  0.75       0.77083333 0.79166667]\n",
            "📊 Mean Accuracy: 0.7686\n",
            "📉 Standard Deviation: 0.0149\n"
          ]
        }
      ],
      "source": [
        "log_model = LogisticRegression(random_state=42,max_iter=100)\n",
        "log_model.fit(X_train,y_train)\n",
        "y_pred_log = log_model.predict(X_test)\n",
        "\n",
        "print(\"\\n🔷 Logistic Regression ------------------\")\n",
        "accuracy(y_test,y_pred_log)\n",
        "confusionMatrix(y_test,y_pred_log)\n",
        "classificationReport(y_test,y_pred_log)\n",
        "cross_validate_model(model,X_train,y_train,model_name=\"LogisticRegression\")"
      ]
    },
    {
      "cell_type": "code",
      "execution_count": 25,
      "metadata": {
        "colab": {
          "base_uri": "https://localhost:8080/"
        },
        "id": "2Kvkm1a9rQgC",
        "outputId": "b6c13929-a8d4-46c9-e5d6-183579603338"
      },
      "outputs": [
        {
          "output_type": "stream",
          "name": "stdout",
          "text": [
            "\n",
            "🔷 K-Nearest Neighbors ------------------\n",
            "✅ Accuracy: 0.9016393442622951\n",
            "📊 Confusion Matrix:\n",
            " [[27  2]\n",
            " [ 4 28]]\n",
            "📝 Classification Report:\n",
            "               precision    recall  f1-score   support\n",
            "\n",
            "           0       0.87      0.93      0.90        29\n",
            "           1       0.93      0.88      0.90        32\n",
            "\n",
            "    accuracy                           0.90        61\n",
            "   macro avg       0.90      0.90      0.90        61\n",
            "weighted avg       0.90      0.90      0.90        61\n",
            "\n",
            "\n",
            "🔁 Cross-Validation for K-NEAREST NEIGHBORS (cv=5)\n",
            "✅ Accuracy Scores: [0.75510204 0.7755102  0.75       0.77083333 0.79166667]\n",
            "📊 Mean Accuracy: 0.7686\n",
            "📉 Standard Deviation: 0.0149\n"
          ]
        }
      ],
      "source": [
        "knn = KNeighborsClassifier(n_neighbors=5, weights='uniform', metric='euclidean')\n",
        "knn.fit(X_train,y_train)\n",
        "y_pred_knn = knn.predict(X_test)\n",
        "\n",
        "print(\"\\n🔷 K-Nearest Neighbors ------------------\")\n",
        "accuracy(y_test,y_pred_knn)\n",
        "confusionMatrix(y_test,y_pred_knn)\n",
        "classificationReport(y_test,y_pred_knn)\n",
        "cross_validate_model(model,X_train,y_train,model_name=\"K-Nearest Neighbors\")"
      ]
    },
    {
      "cell_type": "code",
      "execution_count": 26,
      "metadata": {
        "colab": {
          "base_uri": "https://localhost:8080/"
        },
        "id": "1QCyyg1erQgD",
        "outputId": "4a970ab7-1274-497e-ef36-d07c0910e1d1"
      },
      "outputs": [
        {
          "output_type": "stream",
          "name": "stdout",
          "text": [
            "\n",
            "🔷 MLPClassifier (Neural Network) ------------------\n",
            "✅ Accuracy: 0.9016393442622951\n",
            "📊 Confusion Matrix:\n",
            " [[25  4]\n",
            " [ 2 30]]\n",
            "📝 Classification Report:\n",
            "               precision    recall  f1-score   support\n",
            "\n",
            "           0       0.93      0.86      0.89        29\n",
            "           1       0.88      0.94      0.91        32\n",
            "\n",
            "    accuracy                           0.90        61\n",
            "   macro avg       0.90      0.90      0.90        61\n",
            "weighted avg       0.90      0.90      0.90        61\n",
            "\n",
            "\n",
            "🔁 Cross-Validation for MLPCLASSIFIER (cv=5)\n",
            "✅ Accuracy Scores: [0.75510204 0.7755102  0.75       0.77083333 0.79166667]\n",
            "📊 Mean Accuracy: 0.7686\n",
            "📉 Standard Deviation: 0.0149\n"
          ]
        }
      ],
      "source": [
        "mlp = MLPClassifier(hidden_layer_sizes=(100,),activation='relu',solver='sgd',early_stopping=True,\n",
        "                    max_iter=500,random_state=42)\n",
        "mlp.fit(X_train,y_train)\n",
        "y_pred_mlp = mlp.predict(X_test)\n",
        "\n",
        "\n",
        "print(\"\\n🔷 MLPClassifier (Neural Network) ------------------\")\n",
        "accuracy(y_test,y_pred_mlp)\n",
        "confusionMatrix(y_test,y_pred_mlp)\n",
        "classificationReport(y_test,y_pred_mlp)\n",
        "cross_validate_model(model,X_train,y_train,model_name=\"MLPClassifier\")"
      ]
    },
    {
      "cell_type": "code",
      "execution_count": 28,
      "metadata": {
        "colab": {
          "base_uri": "https://localhost:8080/"
        },
        "id": "6Qb1abGjrQgD",
        "outputId": "03fbd47c-4fe2-4474-ab83-d064bd52839a"
      },
      "outputs": [
        {
          "output_type": "stream",
          "name": "stdout",
          "text": [
            "\n",
            "🔷 Decision Tree ------------------\n",
            "✅ Accuracy: 0.8360655737704918\n",
            "📊 Confusion Matrix:\n",
            " [[26  3]\n",
            " [ 7 25]]\n",
            "📝 Classification Report:\n",
            "               precision    recall  f1-score   support\n",
            "\n",
            "           0       0.79      0.90      0.84        29\n",
            "           1       0.89      0.78      0.83        32\n",
            "\n",
            "    accuracy                           0.84        61\n",
            "   macro avg       0.84      0.84      0.84        61\n",
            "weighted avg       0.84      0.84      0.84        61\n",
            "\n",
            "\n",
            "🔁 Cross-Validation for DECISION TREE (cv=5)\n",
            "✅ Accuracy Scores: [0.75510204 0.7755102  0.75       0.77083333 0.79166667]\n",
            "📊 Mean Accuracy: 0.7686\n",
            "📉 Standard Deviation: 0.0149\n"
          ]
        }
      ],
      "source": [
        "dtree = DecisionTreeClassifier()\n",
        "dtree.fit(X_train,y_train)\n",
        "y_pred_tree =dtree.predict(X_test)\n",
        "\n",
        "print(\"\\n🔷 Decision Tree ------------------\")\n",
        "accuracy(y_test,y_pred_tree)\n",
        "confusionMatrix(y_test,y_pred_tree)\n",
        "classificationReport(y_test,y_pred_tree)\n",
        "cross_validate_model(model,X_train,y_train,model_name=\"Decision Tree\")\n"
      ]
    },
    {
      "cell_type": "code",
      "execution_count": 29,
      "metadata": {
        "colab": {
          "base_uri": "https://localhost:8080/"
        },
        "id": "XyQJjPebrQgD",
        "outputId": "27295e1f-ef7c-4c66-9d65-d1547d727ebd"
      },
      "outputs": [
        {
          "output_type": "stream",
          "name": "stdout",
          "text": [
            "\n",
            "🔷 Random Forest Classifier ------------------\n",
            "✅ Accuracy: 0.8360655737704918\n",
            "📊 Confusion Matrix:\n",
            " [[24  5]\n",
            " [ 5 27]]\n",
            "📝 Classification Report:\n",
            "               precision    recall  f1-score   support\n",
            "\n",
            "           0       0.83      0.83      0.83        29\n",
            "           1       0.84      0.84      0.84        32\n",
            "\n",
            "    accuracy                           0.84        61\n",
            "   macro avg       0.84      0.84      0.84        61\n",
            "weighted avg       0.84      0.84      0.84        61\n",
            "\n",
            "\n",
            "🔁 Cross-Validation for RANDOM FOREST (cv=5)\n",
            "✅ Accuracy Scores: [0.75510204 0.7755102  0.75       0.77083333 0.79166667]\n",
            "📊 Mean Accuracy: 0.7686\n",
            "📉 Standard Deviation: 0.0149\n"
          ]
        }
      ],
      "source": [
        "rf = RandomForestClassifier(n_estimators=100,max_depth=None,random_state=42)\n",
        "rf.fit(X_train,y_train)\n",
        "y_pred_rf = rf.predict(X_test)\n",
        "\n",
        "print(\"\\n🔷 Random Forest Classifier ------------------\")\n",
        "accuracy(y_test,y_pred_rf)\n",
        "confusionMatrix(y_test,y_pred_rf)\n",
        "classificationReport(y_test,y_pred_rf)\n",
        "cross_validate_model(model,X_train,y_train,model_name=\"Random Forest\")"
      ]
    },
    {
      "cell_type": "code",
      "execution_count": 30,
      "metadata": {
        "colab": {
          "base_uri": "https://localhost:8080/"
        },
        "id": "MyPynx-arQgE",
        "outputId": "f30ff79d-2db9-4f12-d210-d7f08491046c"
      },
      "outputs": [
        {
          "output_type": "stream",
          "name": "stdout",
          "text": [
            "\n",
            "🔷 Extra Trees Classifier ------------------\n",
            "✅ Accuracy: 0.8524590163934426\n",
            "📊 Confusion Matrix:\n",
            " [[25  4]\n",
            " [ 5 27]]\n",
            "📝 Classification Report:\n",
            "               precision    recall  f1-score   support\n",
            "\n",
            "           0       0.83      0.86      0.85        29\n",
            "           1       0.87      0.84      0.86        32\n",
            "\n",
            "    accuracy                           0.85        61\n",
            "   macro avg       0.85      0.85      0.85        61\n",
            "weighted avg       0.85      0.85      0.85        61\n",
            "\n",
            "\n",
            "🔁 Cross-Validation for EXTRA TREES (cv=5)\n",
            "✅ Accuracy Scores: [0.75510204 0.7755102  0.75       0.77083333 0.79166667]\n",
            "📊 Mean Accuracy: 0.7686\n",
            "📉 Standard Deviation: 0.0149\n"
          ]
        }
      ],
      "source": [
        "et = ExtraTreesClassifier(n_estimators=100,random_state=42)\n",
        "et.fit(X_train,y_train)\n",
        "y_pred_et=et.predict(X_test)\n",
        "\n",
        "print(\"\\n🔷 Extra Trees Classifier ------------------\")\n",
        "accuracy(y_test,y_pred_et)\n",
        "confusionMatrix(y_test,y_pred_et)\n",
        "classificationReport(y_test,y_pred_et)\n",
        "cross_validate_model(model,X_train,y_train,model_name=\"Extra Trees\")"
      ]
    },
    {
      "cell_type": "code",
      "execution_count": 31,
      "metadata": {
        "colab": {
          "base_uri": "https://localhost:8080/"
        },
        "id": "t9wq6GsqrQgE",
        "outputId": "65a06eae-b0d6-4b42-d66c-cc0b29111bc4"
      },
      "outputs": [
        {
          "output_type": "stream",
          "name": "stdout",
          "text": [
            "\n",
            "🔷 XGBoost Classifier ------------------\n",
            "✅ Accuracy: 0.8524590163934426\n",
            "📊 Confusion Matrix:\n",
            " [[25  4]\n",
            " [ 5 27]]\n",
            "📝 Classification Report:\n",
            "               precision    recall  f1-score   support\n",
            "\n",
            "           0       0.83      0.86      0.85        29\n",
            "           1       0.87      0.84      0.86        32\n",
            "\n",
            "    accuracy                           0.85        61\n",
            "   macro avg       0.85      0.85      0.85        61\n",
            "weighted avg       0.85      0.85      0.85        61\n",
            "\n",
            "\n",
            "🔁 Cross-Validation for XGBOOST (cv=5)\n",
            "✅ Accuracy Scores: [0.75510204 0.7755102  0.75       0.77083333 0.79166667]\n",
            "📊 Mean Accuracy: 0.7686\n",
            "📉 Standard Deviation: 0.0149\n"
          ]
        }
      ],
      "source": [
        "xgb_model = xgb(\n",
        "    eval_metric='logloss',\n",
        "    max_depth=4,\n",
        "    learning_rate=0.1,\n",
        "    subsample=0.8,\n",
        "    colsample_bytree=0.8,\n",
        "    n_estimators=100,\n",
        "    random_state=42)\n",
        "xgb_model.fit(X_train,y_train)\n",
        "y_pred_xgb=xgb_model.predict(X_test)\n",
        "\n",
        "print(\"\\n🔷 XGBoost Classifier ------------------\")\n",
        "accuracy(y_test,y_pred_xgb)\n",
        "confusionMatrix(y_test,y_pred_xgb)\n",
        "classificationReport(y_test,y_pred_xgb)\n",
        "cross_validate_model(model,X_train,y_train,model_name=\"XGBoost\")"
      ]
    },
    {
      "cell_type": "code",
      "execution_count": 32,
      "metadata": {
        "colab": {
          "base_uri": "https://localhost:8080/"
        },
        "id": "6rmR1SwPrQgE",
        "outputId": "2d85e962-fccc-4196-e2f0-6b1d7f3dd616"
      },
      "outputs": [
        {
          "output_type": "stream",
          "name": "stdout",
          "text": [
            "\n",
            "🔷 Naive Bayes Classifier ------------------\n",
            "✅ Accuracy: 0.8688524590163934\n",
            "📊 Confusion Matrix:\n",
            " [[26  3]\n",
            " [ 5 27]]\n",
            "📝 Classification Report:\n",
            "               precision    recall  f1-score   support\n",
            "\n",
            "           0       0.84      0.90      0.87        29\n",
            "           1       0.90      0.84      0.87        32\n",
            "\n",
            "    accuracy                           0.87        61\n",
            "   macro avg       0.87      0.87      0.87        61\n",
            "weighted avg       0.87      0.87      0.87        61\n",
            "\n",
            "\n",
            "🔁 Cross-Validation for NAIVE BAYES (cv=5)\n",
            "✅ Accuracy Scores: [0.75510204 0.7755102  0.75       0.77083333 0.79166667]\n",
            "📊 Mean Accuracy: 0.7686\n",
            "📉 Standard Deviation: 0.0149\n"
          ]
        }
      ],
      "source": [
        "nb_model = GaussianNB()\n",
        "nb_model.fit(X_train,y_train)\n",
        "y_pred_nb = nb_model.predict(X_test)\n",
        "\n",
        "print(\"\\n🔷 Naive Bayes Classifier ------------------\")\n",
        "accuracy(y_test,y_pred_nb)\n",
        "confusionMatrix(y_test,y_pred_nb)\n",
        "classificationReport(y_test,y_pred_nb)\n",
        "cross_validate_model(model,X_train,y_train,model_name=\"Naive Bayes\")"
      ]
    },
    {
      "cell_type": "code",
      "source": [
        "\n",
        "\n",
        "best_model = SVC(kernel='poly', probability=True)\n",
        "best_model.fit(X_train, y_train)\n",
        "\n",
        "import joblib\n",
        "joblib.dump(best_model, 'model_svm.joblib')\n",
        "\n",
        "print(\"Model trained and saved successfully!\")\n"
      ],
      "metadata": {
        "colab": {
          "base_uri": "https://localhost:8080/"
        },
        "id": "E-qNXOJXyg7v",
        "outputId": "6d352e58-7eac-43d8-a2ec-f319dccc9e93"
      },
      "execution_count": 36,
      "outputs": [
        {
          "output_type": "stream",
          "name": "stdout",
          "text": [
            "Model trained and saved successfully!\n"
          ]
        }
      ]
    }
  ],
  "metadata": {
    "colab": {
      "provenance": []
    },
    "kernelspec": {
      "display_name": "Python 3",
      "name": "python3"
    },
    "language_info": {
      "name": "python"
    }
  },
  "nbformat": 4,
  "nbformat_minor": 0
}